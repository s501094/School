{
 "cells": [
  {
   "cell_type": "code",
   "execution_count": null,
   "id": "04f3df5a",
   "metadata": {},
   "outputs": [],
   "source": [
    "import numpy\n",
    "import pandas as pd\n",
    "\n",
    "temperatures = [0,84,93,97,95,93,88,93,93,91,88,90,90,90,93,100]\n",
    "\n",
    "temperatures_df = pd.DataFrame(temperatures, columns=['temperature'])\n",
    "\n",
    "\n",
    "print(temperatures_df)"
   ]
  },
  {
   "cell_type": "code",
   "execution_count": null,
   "id": "7ee1f53d",
   "metadata": {},
   "outputs": [],
   "source": [
    "#mean\n",
    "mean = temperatures_df['temperature'].mean()\n",
    "print(\"Mean=\", round(mean,2))\n",
    "\n",
    "#median\n",
    "median = temperatures_df['temperature'].median()\n",
    "print(\"Median\", round(median,2))\n",
    "\n",
    "#variance\n",
    "variance = temperatures_df['temperature'].var()\n",
    "print(\"variance=\",round(variance,2))\n",
    "\n",
    "#standard deviation\n",
    "stdeviation = temperatures_df['temperature'].std()\n",
    "print(\"standard deviation=\",round(stdeviation,2))\n",
    "\n",
    "#describe \n",
    "statistics = temperatures_df['temperature'].describe()\n",
    "print(\"\")\n",
    "print(\"Describe method\")\n",
    "print(statistics)\n"
   ]
  },
  {
   "cell_type": "code",
   "execution_count": null,
   "id": "43ece743",
   "metadata": {},
   "outputs": [],
   "source": [
    "import matplotlib.pyplot as plt\n",
    "\n",
    "#line plot\n",
    "plt.plot(temperatures_df['temperature'])\n",
    "\n",
    "#set title, \n",
    "plt.title('Line plot of temperature data', fontsize=20)\n",
    "plt.xlabel('day')\n",
    "plt.ylabel('temperature')\n",
    "\n",
    "#display\n",
    "plt.show()"
   ]
  },
  {
   "cell_type": "code",
   "execution_count": null,
   "id": "9cbf6779",
   "metadata": {},
   "outputs": [],
   "source": []
  }
 ],
 "metadata": {
  "kernelspec": {
   "display_name": "Python 3 (ipykernel)",
   "language": "python",
   "name": "python3"
  },
  "language_info": {
   "codemirror_mode": {
    "name": "ipython",
    "version": 3
   },
   "file_extension": ".py",
   "mimetype": "text/x-python",
   "name": "python",
   "nbconvert_exporter": "python",
   "pygments_lexer": "ipython3",
   "version": "3.11.5"
  }
 },
 "nbformat": 4,
 "nbformat_minor": 5
}
