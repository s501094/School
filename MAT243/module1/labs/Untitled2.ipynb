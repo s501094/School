{
 "cells": [
  {
   "cell_type": "code",
   "execution_count": 26,
   "id": "3800cef9",
   "metadata": {},
   "outputs": [],
   "source": [
    "#!/usr/bin/python3\n",
    "import pandas as pd"
   ]
  },
  {
   "cell_type": "code",
   "execution_count": 27,
   "id": "0c68c819",
   "metadata": {},
   "outputs": [
    {
     "name": "stdout",
     "output_type": "stream",
     "text": [
      "    Exam1  Exam2  Exam3  Exam4\n",
      "0     100     66     74     68\n",
      "1      76     84    100     75\n",
      "2      89     80    100     95\n",
      "3      83     76     91     74\n",
      "4      86     99     78     78\n",
      "5      83     72    100     75\n",
      "6      69     72     57     75\n",
      "7      71     92     49     70\n",
      "8      91     93     96     78\n",
      "9      78     70     93     73\n",
      "10     85    100    100     70\n",
      "11     86     97     42     78\n",
      "12     86     94    100     69\n",
      "13     89    100     60     83\n",
      "14     79     76     72     78\n",
      "15     79     66     18     82\n",
      "16    100     84     85     95\n",
      "17     87     74     74     79\n",
      "18     84     77     67     74\n",
      "19     85     95     66     70\n",
      "20     84     99     63     72\n",
      "21     90     68    100     83\n",
      "22     76     65     37     55\n",
      "23     87     91    100     71\n",
      "24     81     57     71     69\n",
      "25     73     73     89     77\n",
      "26     78     85     71     82\n",
      "27     72     88     80     76\n",
      "28     83     97     95     72\n",
      "29     78     66     57     76\n",
      "30     77     51     82     76\n",
      "31     73     91    100     86\n",
      "32     82    100     95     95\n",
      "33     89     79     39     67\n",
      "34     89     84     59     73\n",
      "35     60     65     40     75\n",
      "36     59     84     38     80\n",
      "37     87     65     71     79\n",
      "38     83     86     78     81\n",
      "39     69     70     58     70\n",
      "40     96     68     75     77\n",
      "41     82     76     69     74\n",
      "42     76     96    100     74\n",
      "43     85     54     43     71\n",
      "44     78     86     80     80\n",
      "45     96     83     36     83\n",
      "46    100    100     95    100\n",
      "47     99     49     84     74\n",
      "48     75     55     59     63\n",
      "49     92     72     81     75\n"
     ]
    }
   ],
   "source": [
    "# Loads the ExamScores dataset\n",
    "scores = pd.read_csv('http://data-analytics.zybooks.com/ExamScores.csv')\n",
    "print(scores)"
   ]
  },
  {
   "cell_type": "code",
   "execution_count": 28,
   "id": "52397d34",
   "metadata": {},
   "outputs": [
    {
     "data": {
      "text/plain": [
       "Exam1    82.70\n",
       "Exam2    79.40\n",
       "Exam3    73.34\n",
       "Exam4    76.50\n",
       "dtype: float64"
      ]
     },
     "execution_count": 28,
     "metadata": {},
     "output_type": "execute_result"
    }
   ],
   "source": [
    "scores.mean(0)"
   ]
  },
  {
   "cell_type": "code",
   "execution_count": 29,
   "id": "da82e5bf",
   "metadata": {},
   "outputs": [
    {
     "data": {
      "text/plain": [
       "Exam1     9.291756\n",
       "Exam2    14.332780\n",
       "Exam3    21.754296\n",
       "Exam4     8.056560\n",
       "dtype: float64"
      ]
     },
     "execution_count": 29,
     "metadata": {},
     "output_type": "execute_result"
    }
   ],
   "source": [
    "scores.std()"
   ]
  },
  {
   "cell_type": "code",
   "execution_count": 30,
   "id": "841c10ba",
   "metadata": {},
   "outputs": [
    {
     "ename": "AttributeError",
     "evalue": "'DataFrame' object has no attribute 'mad'",
     "output_type": "error",
     "traceback": [
      "\u001b[0;31m---------------------------------------------------------------------------\u001b[0m",
      "\u001b[0;31mAttributeError\u001b[0m                            Traceback (most recent call last)",
      "\u001b[0;32m/var/folders/jk/z_5r2zxd06s1k3rgvggc_h4w0000gn/T/ipykernel_97720/1672838176.py\u001b[0m in \u001b[0;36m?\u001b[0;34m()\u001b[0m\n\u001b[0;32m----> 1\u001b[0;31m \u001b[0mprint\u001b[0m\u001b[0;34m(\u001b[0m\u001b[0mscores\u001b[0m\u001b[0;34m.\u001b[0m\u001b[0mmad\u001b[0m\u001b[0;34m(\u001b[0m\u001b[0;34m)\u001b[0m\u001b[0;34m)\u001b[0m\u001b[0;34m\u001b[0m\u001b[0;34m\u001b[0m\u001b[0m\n\u001b[0m",
      "\u001b[0;32m/opt/homebrew/lib/python3.11/site-packages/pandas/core/generic.py\u001b[0m in \u001b[0;36m?\u001b[0;34m(self, name)\u001b[0m\n\u001b[1;32m   5985\u001b[0m             \u001b[0;32mand\u001b[0m \u001b[0mname\u001b[0m \u001b[0;32mnot\u001b[0m \u001b[0;32min\u001b[0m \u001b[0mself\u001b[0m\u001b[0;34m.\u001b[0m\u001b[0m_accessors\u001b[0m\u001b[0;34m\u001b[0m\u001b[0;34m\u001b[0m\u001b[0m\n\u001b[1;32m   5986\u001b[0m             \u001b[0;32mand\u001b[0m \u001b[0mself\u001b[0m\u001b[0;34m.\u001b[0m\u001b[0m_info_axis\u001b[0m\u001b[0;34m.\u001b[0m\u001b[0m_can_hold_identifiers_and_holds_name\u001b[0m\u001b[0;34m(\u001b[0m\u001b[0mname\u001b[0m\u001b[0;34m)\u001b[0m\u001b[0;34m\u001b[0m\u001b[0;34m\u001b[0m\u001b[0m\n\u001b[1;32m   5987\u001b[0m         ):\n\u001b[1;32m   5988\u001b[0m             \u001b[0;32mreturn\u001b[0m \u001b[0mself\u001b[0m\u001b[0;34m[\u001b[0m\u001b[0mname\u001b[0m\u001b[0;34m]\u001b[0m\u001b[0;34m\u001b[0m\u001b[0;34m\u001b[0m\u001b[0m\n\u001b[0;32m-> 5989\u001b[0;31m         \u001b[0;32mreturn\u001b[0m \u001b[0mobject\u001b[0m\u001b[0;34m.\u001b[0m\u001b[0m__getattribute__\u001b[0m\u001b[0;34m(\u001b[0m\u001b[0mself\u001b[0m\u001b[0;34m,\u001b[0m \u001b[0mname\u001b[0m\u001b[0;34m)\u001b[0m\u001b[0;34m\u001b[0m\u001b[0;34m\u001b[0m\u001b[0m\n\u001b[0m",
      "\u001b[0;31mAttributeError\u001b[0m: 'DataFrame' object has no attribute 'mad'"
     ]
    }
   ],
   "source": [
    "print(scores.mad())"
   ]
  },
  {
   "cell_type": "code",
   "execution_count": null,
   "id": "98003d2f",
   "metadata": {},
   "outputs": [],
   "source": []
  }
 ],
 "metadata": {
  "kernelspec": {
   "display_name": "Python 3 (ipykernel)",
   "language": "python",
   "name": "python3"
  },
  "language_info": {
   "codemirror_mode": {
    "name": "ipython",
    "version": 3
   },
   "file_extension": ".py",
   "mimetype": "text/x-python",
   "name": "python",
   "nbconvert_exporter": "python",
   "pygments_lexer": "ipython3",
   "version": "3.11.5"
  }
 },
 "nbformat": 4,
 "nbformat_minor": 5
}
