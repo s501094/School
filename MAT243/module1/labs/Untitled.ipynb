{
 "cells": [
  {
   "cell_type": "code",
   "execution_count": 12,
   "id": "240b3aa4",
   "metadata": {},
   "outputs": [
    {
     "name": "stdout",
     "output_type": "stream",
     "text": [
      "   scores\n",
      "0     -12\n",
      "1      -6\n",
      "2      -2\n",
      "3       0\n",
      "4       2\n",
      "5       5\n",
      "6       8\n",
      "7      10\n",
      "8      11\n",
      "scores   -12\n",
      "dtype: int64\n",
      "scores   -12\n",
      "dtype: int64\n",
      "scores    11\n",
      "dtype: int64\n",
      "scores    11\n",
      "dtype: int64\n",
      "\n",
      "\n",
      "Mean= 1.78\n",
      "Median 2.0\n",
      "variance= 58.69\n",
      "standard deviation= 7.66\n",
      "\n",
      "Describe method\n",
      "count     9.000000\n",
      "mean      1.777778\n",
      "std       7.661230\n",
      "min     -12.000000\n",
      "25%      -2.000000\n",
      "50%       2.000000\n",
      "75%       8.000000\n",
      "max      11.000000\n",
      "Name: scores, dtype: float64\n",
      "\n",
      "\n",
      "scores_df.mad \n"
     ]
    },
    {
     "ename": "AttributeError",
     "evalue": "'Series' object has no attribute 'mad'",
     "output_type": "error",
     "traceback": [
      "\u001b[0;31m---------------------------------------------------------------------------\u001b[0m",
      "\u001b[0;31mAttributeError\u001b[0m                            Traceback (most recent call last)",
      "\u001b[0;32m/var/folders/jk/z_5r2zxd06s1k3rgvggc_h4w0000gn/T/ipykernel_92959/2135554251.py\u001b[0m in \u001b[0;36m?\u001b[0;34m()\u001b[0m\n\u001b[1;32m     41\u001b[0m \u001b[0mprint\u001b[0m\u001b[0;34m(\u001b[0m\u001b[0mstatistics\u001b[0m\u001b[0;34m)\u001b[0m\u001b[0;34m\u001b[0m\u001b[0;34m\u001b[0m\u001b[0m\n\u001b[1;32m     42\u001b[0m \u001b[0mprint\u001b[0m\u001b[0;34m(\u001b[0m\u001b[0;34m\"\"\u001b[0m\u001b[0;34m)\u001b[0m\u001b[0;34m\u001b[0m\u001b[0;34m\u001b[0m\u001b[0m\n\u001b[1;32m     43\u001b[0m \u001b[0mprint\u001b[0m\u001b[0;34m(\u001b[0m\u001b[0;34m\"\"\u001b[0m\u001b[0;34m)\u001b[0m\u001b[0;34m\u001b[0m\u001b[0;34m\u001b[0m\u001b[0m\n\u001b[1;32m     44\u001b[0m \u001b[0mprint\u001b[0m\u001b[0;34m(\u001b[0m\u001b[0;34m\"scores_df.mad \"\u001b[0m\u001b[0;34m)\u001b[0m\u001b[0;34m\u001b[0m\u001b[0;34m\u001b[0m\u001b[0m\n\u001b[0;32m---> 45\u001b[0;31m \u001b[0mprint\u001b[0m\u001b[0;34m(\u001b[0m\u001b[0mscores_df\u001b[0m\u001b[0;34m[\u001b[0m\u001b[0;34m'scores'\u001b[0m\u001b[0;34m]\u001b[0m\u001b[0;34m.\u001b[0m\u001b[0mmad\u001b[0m\u001b[0;34m(\u001b[0m\u001b[0;34m)\u001b[0m\u001b[0;34m)\u001b[0m\u001b[0;34m\u001b[0m\u001b[0;34m\u001b[0m\u001b[0m\n\u001b[0m\u001b[1;32m     46\u001b[0m \u001b[0;34m\u001b[0m\u001b[0m\n\u001b[1;32m     47\u001b[0m \u001b[0;34m\u001b[0m\u001b[0m\n",
      "\u001b[0;32m/opt/homebrew/lib/python3.11/site-packages/pandas/core/generic.py\u001b[0m in \u001b[0;36m?\u001b[0;34m(self, name)\u001b[0m\n\u001b[1;32m   5985\u001b[0m             \u001b[0;32mand\u001b[0m \u001b[0mname\u001b[0m \u001b[0;32mnot\u001b[0m \u001b[0;32min\u001b[0m \u001b[0mself\u001b[0m\u001b[0;34m.\u001b[0m\u001b[0m_accessors\u001b[0m\u001b[0;34m\u001b[0m\u001b[0;34m\u001b[0m\u001b[0m\n\u001b[1;32m   5986\u001b[0m             \u001b[0;32mand\u001b[0m \u001b[0mself\u001b[0m\u001b[0;34m.\u001b[0m\u001b[0m_info_axis\u001b[0m\u001b[0;34m.\u001b[0m\u001b[0m_can_hold_identifiers_and_holds_name\u001b[0m\u001b[0;34m(\u001b[0m\u001b[0mname\u001b[0m\u001b[0;34m)\u001b[0m\u001b[0;34m\u001b[0m\u001b[0;34m\u001b[0m\u001b[0m\n\u001b[1;32m   5987\u001b[0m         ):\n\u001b[1;32m   5988\u001b[0m             \u001b[0;32mreturn\u001b[0m \u001b[0mself\u001b[0m\u001b[0;34m[\u001b[0m\u001b[0mname\u001b[0m\u001b[0;34m]\u001b[0m\u001b[0;34m\u001b[0m\u001b[0;34m\u001b[0m\u001b[0m\n\u001b[0;32m-> 5989\u001b[0;31m         \u001b[0;32mreturn\u001b[0m \u001b[0mobject\u001b[0m\u001b[0;34m.\u001b[0m\u001b[0m__getattribute__\u001b[0m\u001b[0;34m(\u001b[0m\u001b[0mself\u001b[0m\u001b[0;34m,\u001b[0m \u001b[0mname\u001b[0m\u001b[0;34m)\u001b[0m\u001b[0;34m\u001b[0m\u001b[0;34m\u001b[0m\u001b[0m\n\u001b[0m",
      "\u001b[0;31mAttributeError\u001b[0m: 'Series' object has no attribute 'mad'"
     ]
    }
   ],
   "source": [
    "import pandas as pd\n",
    "\n",
    "\n",
    "scores_df = pd.DataFrame(scores, columns=['scores'])\n",
    "\n",
    "print(scores_df)\n",
    "\n",
    "# Prints the minimum score for each exam\n",
    "print(scores_df.min())\n",
    "\n",
    "# Prints the minimum score for Exam1 only\n",
    "print(scores_df[['scores']].min())\n",
    "\n",
    "# Prints the maximum score for each exam\n",
    "print(scores_df.max())\n",
    "\n",
    "# Prints the maximum score for Exam1 only\n",
    "print(scores_df[['scores']].max())\n",
    "print(\"\")\n",
    "print(\"\")\n",
    "mean = scores_df['scores'].mean()\n",
    "print(\"Mean=\", round(mean,2))\n",
    "\n",
    "#median\n",
    "median = scores_df['scores'].median()\n",
    "print(\"Median\", round(median,2))\n",
    "\n",
    "#variance\n",
    "variance = scores_df['scores'].var()\n",
    "print(\"variance=\",round(variance,2))\n",
    "\n",
    "#standard deviation\n",
    "stdeviation = scores_df['scores'].std()\n",
    "print(\"standard deviation=\",round(stdeviation,2))\n",
    "\n",
    "#describe \n",
    "statistics = scores_df['scores'].describe()\n",
    "print(\"\")\n",
    "print(\"Describe method\")\n",
    "print(statistics)\n",
    "print(\"\")\n",
    "print(\"\")\n",
    "print(\"scores_df.mad \")\n",
    "print(scores_df['scores'].mad())\n",
    "\n",
    "\n"
   ]
  },
  {
   "cell_type": "code",
   "execution_count": null,
   "id": "bb75654e",
   "metadata": {},
   "outputs": [],
   "source": []
  }
 ],
 "metadata": {
  "kernelspec": {
   "display_name": "Python 3 (ipykernel)",
   "language": "python",
   "name": "python3"
  },
  "language_info": {
   "codemirror_mode": {
    "name": "ipython",
    "version": 3
   },
   "file_extension": ".py",
   "mimetype": "text/x-python",
   "name": "python",
   "nbconvert_exporter": "python",
   "pygments_lexer": "ipython3",
   "version": "3.11.5"
  }
 },
 "nbformat": 4,
 "nbformat_minor": 5
}
