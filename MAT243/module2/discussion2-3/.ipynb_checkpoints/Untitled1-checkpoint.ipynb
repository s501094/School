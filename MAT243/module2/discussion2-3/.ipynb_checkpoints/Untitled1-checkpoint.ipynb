{
 "cells": [
  {
   "cell_type": "code",
   "execution_count": 31,
   "id": "60524ba3",
   "metadata": {},
   "outputs": [],
   "source": [
    "import scipy.stats as st\n",
    "import pandas as pd"
   ]
  },
  {
   "cell_type": "code",
   "execution_count": 27,
   "id": "3989c821",
   "metadata": {},
   "outputs": [
    {
     "name": "stdout",
     "output_type": "stream",
     "text": [
      "8.0\n"
     ]
    }
   ],
   "source": [
    "weight = [5,6,7,9,13]\n",
    "popMean = (sum(weight)/len(weight))\n",
    "print(popMean)"
   ]
  },
  {
   "cell_type": "code",
   "execution_count": 14,
   "id": "3fff0db1",
   "metadata": {},
   "outputs": [
    {
     "name": "stdout",
     "output_type": "stream",
     "text": [
      "\n",
      "0.21614541690132372\n"
     ]
    }
   ],
   "source": [
    "sf = st.norm.cdf(155, 150, 8.75)\n",
    "print(\"\")\n",
    "cdf = st.norm.cdf(150,150,8.75)\n",
    "\n",
    "print(sf-cdf)"
   ]
  },
  {
   "cell_type": "code",
   "execution_count": 34,
   "id": "ae38591c",
   "metadata": {},
   "outputs": [
    {
     "name": "stdout",
     "output_type": "stream",
     "text": [
      "0    8.0\n",
      "dtype: float64\n",
      "0    1.825742\n",
      "dtype: float64\n"
     ]
    }
   ],
   "source": [
    "weight = pd.DataFrame([5.5,6,7,9,6.5,7.5,9.5,8,10,11])\n",
    "print(weight.mean())\n",
    "print(weight.std())"
   ]
  },
  {
   "cell_type": "code",
   "execution_count": 35,
   "id": "868ac13a",
   "metadata": {},
   "outputs": [
    {
     "name": "stdout",
     "output_type": "stream",
     "text": [
      "10\n"
     ]
    }
   ],
   "source": [
    "print(len(weight))"
   ]
  },
  {
   "cell_type": "code",
   "execution_count": 39,
   "id": "dbac476b",
   "metadata": {},
   "outputs": [
    {
     "name": "stdout",
     "output_type": "stream",
     "text": [
      "0\n"
     ]
    }
   ],
   "source": [
    "print(sum(weight))"
   ]
  },
  {
   "cell_type": "code",
   "execution_count": 41,
   "id": "3743bd66",
   "metadata": {},
   "outputs": [
    {
     "name": "stdout",
     "output_type": "stream",
     "text": [
      "<class 'list'>\n",
      "<class 'pandas.core.frame.DataFrame'>\n"
     ]
    }
   ],
   "source": [
    "weights = [5.5,6,7,9,6.5,7.5,9.5,8,10,11]\n",
    "print(type(weights))\n",
    "print(type(weight))"
   ]
  },
  {
   "cell_type": "code",
   "execution_count": null,
   "id": "caeff81c",
   "metadata": {},
   "outputs": [],
   "source": []
  }
 ],
 "metadata": {
  "kernelspec": {
   "display_name": "Python 3 (ipykernel)",
   "language": "python",
   "name": "python3"
  },
  "language_info": {
   "codemirror_mode": {
    "name": "ipython",
    "version": 3
   },
   "file_extension": ".py",
   "mimetype": "text/x-python",
   "name": "python",
   "nbconvert_exporter": "python",
   "pygments_lexer": "ipython3",
   "version": "3.11.5"
  }
 },
 "nbformat": 4,
 "nbformat_minor": 5
}
