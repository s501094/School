{
 "cells": [
  {
   "cell_type": "code",
   "execution_count": 1,
   "id": "3d6ada37",
   "metadata": {},
   "outputs": [],
   "source": [
    "import scipy.stats as st\n",
    "import pandas as pd"
   ]
  },
  {
   "cell_type": "code",
   "execution_count": 11,
   "id": "9397a1da",
   "metadata": {},
   "outputs": [
    {
     "name": "stdout",
     "output_type": "stream",
     "text": [
      "0    8.0\n",
      "dtype: float64\n"
     ]
    }
   ],
   "source": [
    "weight_df = pd.DataFrame([5,6,7,9,13])\n",
    "print(weight_df.mean())"
   ]
  },
  {
   "cell_type": "code",
   "execution_count": 15,
   "id": "12ba77ac",
   "metadata": {},
   "outputs": [
    {
     "ename": "AttributeError",
     "evalue": "module 'pandas' has no attribute 'description'",
     "output_type": "error",
     "traceback": [
      "\u001b[0;31m---------------------------------------------------------------------------\u001b[0m",
      "\u001b[0;31mAttributeError\u001b[0m                            Traceback (most recent call last)",
      "Cell \u001b[0;32mIn[15], line 1\u001b[0m\n\u001b[0;32m----> 1\u001b[0m \u001b[38;5;28mprint\u001b[39m(\u001b[43mpd\u001b[49m\u001b[38;5;241;43m.\u001b[39;49m\u001b[43mdescription\u001b[49m(weights_df))\n",
      "\u001b[0;31mAttributeError\u001b[0m: module 'pandas' has no attribute 'description'"
     ]
    }
   ],
   "source": [
    "print(pd.description(weights_df))"
   ]
  },
  {
   "cell_type": "code",
   "execution_count": 5,
   "id": "d407a6ea",
   "metadata": {},
   "outputs": [
    {
     "name": "stdout",
     "output_type": "stream",
     "text": [
      "8.0\n"
     ]
    }
   ],
   "source": [
    "weight = [5,6,7,9,13]\n",
    "popMean = (sum(weight)/len(weight))\n",
    "print(popMean)"
   ]
  },
  {
   "cell_type": "code",
   "execution_count": 6,
   "id": "970ae022",
   "metadata": {},
   "outputs": [
    {
     "name": "stdout",
     "output_type": "stream",
     "text": [
      "\n",
      "0.21614541690132372\n"
     ]
    }
   ],
   "source": [
    "sf = st.norm.cdf(155, 150, 8.75)\n",
    "print(\"\")\n",
    "cdf = st.norm.cdf(150,150,8.75)\n",
    "\n",
    "print(sf-cdf)"
   ]
  },
  {
   "cell_type": "code",
   "execution_count": 7,
   "id": "ecc636b7",
   "metadata": {},
   "outputs": [
    {
     "name": "stdout",
     "output_type": "stream",
     "text": [
      "0    8.0\n",
      "dtype: float64\n",
      "0    0.790569\n",
      "dtype: float64\n"
     ]
    }
   ],
   "source": [
    "sample_weight = pd.DataFrame([6.75,8.75,8.25,7.75,8.5])\n",
    "print(weight.mean())\n",
    "print(weight.std())"
   ]
  },
  {
   "cell_type": "code",
   "execution_count": 35,
   "id": "65279b85",
   "metadata": {},
   "outputs": [
    {
     "name": "stdout",
     "output_type": "stream",
     "text": [
      "10\n"
     ]
    }
   ],
   "source": [
    "print(len(weight))"
   ]
  },
  {
   "cell_type": "code",
   "execution_count": 39,
   "id": "1caf463c",
   "metadata": {},
   "outputs": [
    {
     "name": "stdout",
     "output_type": "stream",
     "text": [
      "0\n"
     ]
    }
   ],
   "source": [
    "print(sum(weight))"
   ]
  },
  {
   "cell_type": "code",
   "execution_count": 1,
   "id": "6d96bc0f",
   "metadata": {},
   "outputs": [
    {
     "name": "stdout",
     "output_type": "stream",
     "text": [
      "<class 'list'>\n"
     ]
    },
    {
     "ename": "NameError",
     "evalue": "name 'weight' is not defined",
     "output_type": "error",
     "traceback": [
      "\u001b[0;31m---------------------------------------------------------------------------\u001b[0m",
      "\u001b[0;31mNameError\u001b[0m                                 Traceback (most recent call last)",
      "Cell \u001b[0;32mIn[1], line 3\u001b[0m\n\u001b[1;32m      1\u001b[0m weights \u001b[38;5;241m=\u001b[39m [\u001b[38;5;241m6.75\u001b[39m,\u001b[38;5;241m8.75\u001b[39m,\u001b[38;5;241m8.25\u001b[39m,\u001b[38;5;241m7.75\u001b[39m,\u001b[38;5;241m8.5\u001b[39m]\n\u001b[1;32m      2\u001b[0m \u001b[38;5;28mprint\u001b[39m(\u001b[38;5;28mtype\u001b[39m(weights))\n\u001b[0;32m----> 3\u001b[0m \u001b[38;5;28mprint\u001b[39m(\u001b[38;5;28mtype\u001b[39m(\u001b[43mweight\u001b[49m))\n",
      "\u001b[0;31mNameError\u001b[0m: name 'weight' is not defined"
     ]
    }
   ],
   "source": [
    "weights = [6.75,8.75,8.25,7.75,8.5]\n",
    "print(type(weights))\n",
    "print(type(weight))"
   ]
  },
  {
   "cell_type": "code",
   "execution_count": 42,
   "id": "dca9ad4e",
   "metadata": {},
   "outputs": [
    {
     "name": "stdout",
     "output_type": "stream",
     "text": [
      "80.0\n"
     ]
    }
   ],
   "source": [
    "print(sum(weights))"
   ]
  },
  {
   "cell_type": "code",
   "execution_count": null,
   "id": "b4fd5836",
   "metadata": {},
   "outputs": [],
   "source": []
  }
 ],
 "metadata": {
  "kernelspec": {
   "display_name": "Python 3 (ipykernel)",
   "language": "python",
   "name": "python3"
  },
  "language_info": {
   "codemirror_mode": {
    "name": "ipython",
    "version": 3
   },
   "file_extension": ".py",
   "mimetype": "text/x-python",
   "name": "python",
   "nbconvert_exporter": "python",
   "pygments_lexer": "ipython3",
   "version": "3.11.5"
  }
 },
 "nbformat": 4,
 "nbformat_minor": 5
}
