{
 "cells": [
  {
   "cell_type": "markdown",
   "metadata": {},
   "source": [
    "# Module Three Discussion: Confidence Intervals and Hypothesis Testing\n",
    "\n",
    "This notebook contains the step-by-step directions for your Module Three discussion. It is very important to run through the steps in order. Some steps depend on the outputs of earlier steps. Once you have completed the steps in this notebook, be sure to answer the questions about this activity in the discussion for this module.\n",
    "\n",
    "Reminder: If you have not already reviewed the discussion prompt, please do so before beginning this activity. That will give you an idea of the questions you will need to answer with the outputs of this script.\n"
   ]
  },
  {
   "cell_type": "markdown",
   "metadata": {},
   "source": [
    "## Objectives \t\n",
    "> Use the link in the Jupyter Notebook activity to access your Python script. Once you have made your calculations, complete this discussion. The script will output answers to the questions given below. You must attach your Python script output as an HTML file and respond to the questions below.\n",
    "\n",
    "In this discussion, you will apply the statistical concepts and techniques covered in this week's reading to calculate a confidence interval and perform hypothesis testing for a manufacturing process.\n",
    "\n",
    "The manufacturing process at a factory produces ball bearings that are sold to automotive manufacturers. The factory wants to estimate the average diameter of a ball bearing that is in demand to ensure that it is manufactured within the specifications. Suppose they plan to collect a sample of 50 ball bearings and measure their diameters to construct a 90% and 99% confidence interval for the average diameter of ball bearings produced from this manufacturing process.\n",
    "\n",
    "The sample of size 50 was generated using Python's numpy module. This data set will be unique to you, and therefore your answers will be unique as well. Run Step 1 in the Python script to generate your unique sample data. Check to make sure your sample data is shown in your attachment.\n",
    "\n",
    "In your initial post, address the following items. Be sure to answer the questions about both confidence intervals and hypothesis testing.\n",
    "\n",
    "In the Python script, you calculated the sample data to construct a 90% and 99% confidence interval for the average diameter of ball bearings produced from this manufacturing process. These confidence intervals were created using the Normal distribution based on the assumption that the population standard deviation is known and the sample size is sufficiently large. Report these confidence intervals rounded to two decimal places. See Step 2 in the Python script.\n",
    "Interpret both confidence intervals. Make sure to be detailed and precise in your interpretation.\n",
    "It has been claimed from previous studies that the average diameter of ball bearings from this manufacturing process is 2.30 cm. Based on the sample of 50 that you collected, is there evidence to suggest that the average diameter is greater than 2.30 cm? Perform a hypothesis test for the population mean at alpha = 0.01.\n",
    "\n",
    "In your initial post, address the following items:\n",
    "\n",
    "Define the null and alternative hypothesis for this test in mathematical terms and in words.\n",
    "Report the level of significance.\n",
    "Include the test statistic and the P-value. See Step 3 in the Python script. (Note that Python methods return two tailed P-values. You must report the correct P-value based on the alternative hypothesis.)\n",
    "Provide your conclusion and interpretation of the results. Should the null hypothesis be rejected? Why or why not?\n",
    "In your follow-up posts to other students, review your peers' calculations and provide some analysis and interpretation:\n",
    "\n",
    "How do their confidence intervals compare with yours?\n",
    "If the population standard deviation is unknown and the sample size is not sufficiently large, would you still use the Normal distribution to calculate these confidence intervals, or would you choose another distribution? If the latter, which distribution would you choose?\n",
    "Remember to attach your Python output and respond to all questions in your initial and follow-up posts. Be sure to clearly communicate your ideas using appropriate terminology.\n",
    "\n",
    "To complete this assignment, review the Discussion Rubric."
   ]
  },
  {
   "cell_type": "markdown",
   "metadata": {},
   "source": [
    "\n",
    "## Initial post (due Thursday)\n",
    "_____________________________________________________________________________________________________________________________________________________"
   ]
  },
  {
   "cell_type": "markdown",
   "metadata": {},
   "source": [
    "### Step 1: Generating sample data\n",
    "This block of Python code will generate a unique sample of size 50 that you will use in this discussion. Note that your sample will be unique and therefore your answers will be unique as well. The numpy module in Python allows you to create a data set using a Normal distribution. Note that the mean and standard deviation were chosen for you. The data set will be saved in a Python dataframe that will be used in later calculations. \n",
    "\n",
    "Click the block of code below and hit the **Run** button above. "
   ]
  },
  {
   "cell_type": "code",
   "execution_count": 1,
   "metadata": {},
   "outputs": [
    {
     "name": "stdout",
     "output_type": "stream",
     "text": [
      "Diameters data frame\n",
      "\n",
      "    diameters\n",
      "0        2.30\n",
      "1        2.74\n",
      "2        2.32\n",
      "3        1.95\n",
      "4        2.11\n",
      "5        2.60\n",
      "6        2.07\n",
      "7        2.35\n",
      "8        2.56\n",
      "9        2.40\n",
      "10       1.50\n",
      "11       2.50\n",
      "12       2.03\n",
      "13       3.54\n",
      "14       2.84\n",
      "15       3.30\n",
      "16       2.40\n",
      "17       1.87\n",
      "18       1.93\n",
      "19       2.74\n",
      "20       1.82\n",
      "21       2.18\n",
      "22       3.66\n",
      "23       1.72\n",
      "24       1.77\n",
      "25       2.30\n",
      "26       2.19\n",
      "27       2.72\n",
      "28       2.02\n",
      "29       1.87\n",
      "30       2.50\n",
      "31       2.90\n",
      "32       1.61\n",
      "33       3.08\n",
      "34       2.07\n",
      "35       2.08\n",
      "36       2.25\n",
      "37       2.95\n",
      "38       2.25\n",
      "39       2.53\n",
      "40       3.50\n",
      "41       2.34\n",
      "42       2.90\n",
      "43       2.46\n",
      "44       2.43\n",
      "45       2.60\n",
      "46       2.19\n",
      "47       2.99\n",
      "48       2.45\n",
      "49       2.59\n"
     ]
    }
   ],
   "source": [
    "import pandas as pd\n",
    "import numpy as np\n",
    "import math\n",
    "import scipy.stats as st\n",
    "\n",
    "# create 50 randomly chosen values from a Normal distribution. (arbitrarily using mean=2.48 and standard deviation=0.50). \n",
    "diameters = np.random.normal(2.4800,0.500,50)\n",
    "\n",
    "# convert the array into a dataframe with the column name \"diameters\" using pandas library.\n",
    "diameters_df = pd.DataFrame(diameters, columns=['diameters'])\n",
    "diameters_df = diameters_df.round(2)\n",
    "\n",
    "# print the dataframe (note that the index of dataframe starts at 0).\n",
    "print(\"Diameters data frame\\n\")\n",
    "print(diameters_df)"
   ]
  },
  {
   "cell_type": "markdown",
   "metadata": {},
   "source": [
    "### Step 2: Constructing confidence intervals\n",
    "You will assume that the population standard deviation is known and that the sample size is sufficiently large. Then you will use the Normal distribution to construct these confidence intervals. You will use the submodule scipy.stats to construct confidence intervals using your sample data. \n",
    "\n",
    "Click the block of code below and hit the **Run** button above. "
   ]
  },
  {
   "cell_type": "code",
   "execution_count": 2,
   "metadata": {},
   "outputs": [
    {
     "name": "stdout",
     "output_type": "stream",
     "text": [
      "90% confidence interval (unrounded) = (2.3030912846323326, 2.5357087153676674)\n",
      "90% confidence interval (rounded) = ( 2.3 , 2.54 )\n",
      "\n",
      "99% confidence interval (unrounded) = (2.2372613632281553, 2.6015386367718447)\n",
      "99% confidence interval (rounded) = ( 2.24 , 2.6 )\n"
     ]
    }
   ],
   "source": [
    "# Python methods that calculate confidence intervals require the sample mean and the standard error as inputs.\n",
    "\n",
    "# calculate the sample mean\n",
    "mean = diameters_df['diameters'].mean()\n",
    "\n",
    "# input the population standard deviation, which was given in Step 1.\n",
    "std_deviation = 0.5000\n",
    "\n",
    "# calculate standard error = standard deviation / sqrt(n)   where n is the sample size.\n",
    "stderr = std_deviation/math.sqrt(len(diameters_df['diameters']))\n",
    "\n",
    "# construct a 90% confidence interval.\n",
    "conf_int_90 = st.norm.interval(0.90, mean, stderr)\n",
    "print(\"90% confidence interval (unrounded) =\", conf_int_90)\n",
    "print(\"90% confidence interval (rounded) = (\", round(conf_int_90[0], 2), \",\", round(conf_int_90[1], 2), \")\")\n",
    "print(\"\")\n",
    "\n",
    "# construct a 99% confidence interval.\n",
    "conf_int_99 = st.norm.interval(0.99, mean, stderr)\n",
    "print(\"99% confidence interval (unrounded) =\", conf_int_99)\n",
    "print(\"99% confidence interval (rounded) = (\", round(conf_int_99[0], 2), \",\", round(conf_int_99[1], 2), \")\")"
   ]
  },
  {
   "cell_type": "markdown",
   "metadata": {},
   "source": [
    "### Step 3: Performing hypothesis testing for the population mean\n",
    "Since you were given the population standard deviation in Step 1 and the sample size is sufficiently large, you can use the z-test for population means. The z-test method in statsmodels.stats.weightstats submodule runs the z-test. The input to this method is the sample dataframe and the value under the null hypothesis. The output is the test-statistic and the two-tailed P-value.\n",
    "\n",
    "Click the block of code below and hit the **Run** button above. "
   ]
  },
  {
   "cell_type": "code",
   "execution_count": 3,
   "metadata": {},
   "outputs": [
    {
     "name": "stdout",
     "output_type": "stream",
     "text": [
      "z-test hypothesis test for population mean\n",
      "test-statistic = 1.73\n",
      "two tailed p-value = 0.0844\n"
     ]
    }
   ],
   "source": [
    "from statsmodels.stats.weightstats import ztest\n",
    "\n",
    "# run z-test hypothesis test for population mean. The value under the null hypothesis is 2.30.\n",
    "test_statistic, p_value = ztest(x1 = diameters_df['diameters'],  value = 2.30)\n",
    "\n",
    "print(\"z-test hypothesis test for population mean\")\n",
    "print(\"test-statistic =\", round(test_statistic,2))\n",
    "print(\"two tailed p-value =\",round(p_value,4))"
   ]
  },
  {
   "cell_type": "markdown",
   "metadata": {},
   "source": [
    "## End of initial post\n",
    "Attach the HTML output to your initial post in the Module Three discussion. The HTML output can be downloaded by clicking **File**, then **Download as**, then **HTML**. Be sure to answer all questions about this activity in the Module Three discussion."
   ]
  },
  {
   "cell_type": "markdown",
   "metadata": {},
   "source": [
    "## Follow-up posts (due Sunday)\n",
    "Return to the Module Three discussion to answer the follow-up questions in your response posts to other students. There are no Python scripts to run for your follow-up posts."
   ]
  }
 ],
 "metadata": {
  "kernelspec": {
   "display_name": "Python 3 (ipykernel)",
   "language": "python",
   "name": "python3"
  },
  "language_info": {
   "codemirror_mode": {
    "name": "ipython",
    "version": 3
   },
   "file_extension": ".py",
   "mimetype": "text/x-python",
   "name": "python",
   "nbconvert_exporter": "python",
   "pygments_lexer": "ipython3",
   "version": "3.7.2"
  }
 },
 "nbformat": 4,
 "nbformat_minor": 2
}
